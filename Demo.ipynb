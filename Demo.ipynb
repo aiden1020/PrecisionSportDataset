{
 "cells": [
  {
   "cell_type": "code",
   "execution_count": null,
   "id": "49047ec5",
   "metadata": {},
   "outputs": [],
   "source": [
    "from data_processing.preprocess_encoder_data import filter_and_dedup_encoder_data\n",
    "\n",
    "filter_and_dedup_encoder_data(\n",
    "    encoder_csv_path='data_processing/raw/encoder_data.csv',\n",
    "    stroke_map_ty_path='data_processing/mapping/stroke_mapping_name.csv',\n",
    "    hit_area_map_path='data_processing/mapping/hit_area_mapping.csv',\n",
    "    stroke_map_llm_path='data_processing/mapping/stroke_mapping_llm.csv',\n",
    "    output_csv_path='data_processing/processed/filtered_encoder_data.csv',\n",
    "    dedup_keep='last',       \n",
    "    sort_by=None             \n",
    ")"
   ]
  },
  {
   "cell_type": "code",
   "execution_count": null,
   "id": "b2c28bb6",
   "metadata": {},
   "outputs": [],
   "source": [
    "from dataset_pipeline.video_cropper import VideoCropper\n",
    "\n",
    "cropper = VideoCropper(output_path='Output',video_dir='Dataset/Video')\n",
    "cropper.crop_videos('data_processing/processed/filtered_encoder_data.csv')"
   ]
  },
  {
   "cell_type": "code",
   "execution_count": null,
   "id": "51e5bac4",
   "metadata": {},
   "outputs": [],
   "source": [
    "import os\n",
    "from dataset_pipeline.caption_generator import CaptionGenerator\n",
    "csv_path = 'data_processing/processed/filtered_encoder_data.csv'\n",
    "caption_output_dir = 'generated_labels/caption'\n",
    "os.makedirs(caption_output_dir, exist_ok=True)\n",
    "\n",
    "caption_gen = CaptionGenerator(caption_output_dir)\n",
    "caption_df = caption_gen.generate_captions(csv_path)\n",
    "caption_csv = os.path.join(caption_output_dir, 'dataset_labels_caption.csv')\n",
    "caption_df.to_csv(caption_csv, index=False)\n",
    "print(f'Captions saved to: {caption_csv}')\n"
   ]
  },
  {
   "cell_type": "code",
   "execution_count": null,
   "id": "d819452e",
   "metadata": {},
   "outputs": [],
   "source": [
    "import os\n",
    "from dataset_pipeline.qa_generator import QAGenerator\n",
    "csv_path = 'data_processing/processed/filtered_encoder_data.csv'\n",
    "caption_csv = 'generated_labels/caption/dataset_labels_caption.csv'\n",
    "qa_output_dir = 'generated_labels/QA_chunk_5'\n",
    "os.makedirs(qa_output_dir, exist_ok=True)\n",
    "qa_output_path = os.path.join(qa_output_dir, 'qa_dataset.json')\n",
    "\n",
    "templates_all = [\"When does the {player} hits a {stroke} {hit_area}?\"]\n",
    "templates_ps  = [\"When does the {player} hits a {stroke}?\"]\n",
    "templates_s   = [\"When is a {stroke} hits?\"]\n",
    "templates_h   = [\"Which stroke is hit {hit_area}?\"]\n",
    "\n",
    "qa_gen = QAGenerator(\n",
    "    templates_with_all=templates_all,\n",
    "    templates_player_stroke=templates_ps,\n",
    "    templates_stroke_only=templates_s,\n",
    "    templates_hit_area_only=templates_h,\n",
    "    stroke_chunk_size=5,\n",
    "    caption_csv_path=caption_csv\n",
    ")\n",
    "qa_gen.generate_by_rally(\n",
    "    csv_path=csv_path,\n",
    "    output_path=qa_output_path,\n",
    "    num_questions_per_rally=14,\n",
    "    val_to_train_ratio=0.05\n",
    ")\n",
    "print(f'QA dataset saved to: {qa_output_path}')\n"
   ]
  }
 ],
 "metadata": {
  "kernelspec": {
   "display_name": "base",
   "language": "python",
   "name": "python3"
  },
  "language_info": {
   "codemirror_mode": {
    "name": "ipython",
    "version": 3
   },
   "file_extension": ".py",
   "mimetype": "text/x-python",
   "name": "python",
   "nbconvert_exporter": "python",
   "pygments_lexer": "ipython3",
   "version": "3.12.2"
  }
 },
 "nbformat": 4,
 "nbformat_minor": 5
}
